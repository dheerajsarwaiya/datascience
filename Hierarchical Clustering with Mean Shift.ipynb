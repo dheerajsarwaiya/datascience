{
 "cells": [
  {
   "cell_type": "code",
   "execution_count": 1,
   "metadata": {},
   "outputs": [],
   "source": [
    "import numpy as np\n",
    "from sklearn.cluster import MeanShift\n",
    "from sklearn.datasets.samples_generator import make_blobs\n",
    "import matplotlib.pyplot as plt\n",
    "from mpl_toolkits.mplot3d import Axes3D\n",
    "from matplotlib import style\n",
    "style.use(\"ggplot\")"
   ]
  },
  {
   "cell_type": "code",
   "execution_count": 2,
   "metadata": {},
   "outputs": [],
   "source": [
    "centers = [[1,1,1],[5,5,5],[3,10,10]]\n"
   ]
  },
  {
   "cell_type": "code",
   "execution_count": 3,
   "metadata": {},
   "outputs": [],
   "source": [
    "X, _ = make_blobs(n_samples = 100, centers = centers, cluster_std = 1.5)"
   ]
  },
  {
   "cell_type": "code",
   "execution_count": 4,
   "metadata": {},
   "outputs": [
    {
     "data": {
      "text/plain": [
       "MeanShift(bandwidth=None, bin_seeding=False, cluster_all=True, min_bin_freq=1,\n",
       "     n_jobs=1, seeds=None)"
      ]
     },
     "execution_count": 4,
     "metadata": {},
     "output_type": "execute_result"
    }
   ],
   "source": [
    "ms = MeanShift()\n",
    "ms.fit(X)"
   ]
  },
  {
   "cell_type": "code",
   "execution_count": 5,
   "metadata": {},
   "outputs": [
    {
     "name": "stdout",
     "output_type": "stream",
     "text": [
      "[[ 1.35603087  1.16916265  1.14493235]\n",
      " [ 4.99466101  4.94839181  5.23600797]\n",
      " [ 2.70080982 10.12377827  9.8702186 ]]\n",
      "Number of estimated clusters: 3\n"
     ]
    }
   ],
   "source": [
    "labels = ms.labels_\n",
    "cluster_centers = ms.cluster_centers_\n",
    "\n",
    "print(cluster_centers)\n",
    "n_clusters_ = len(np.unique(labels))\n",
    "print(\"Number of estimated clusters:\", n_clusters_)\n"
   ]
  },
  {
   "cell_type": "code",
   "execution_count": 6,
   "metadata": {},
   "outputs": [
    {
     "data": {
      "image/png": "[encoded data removed]",
      "text/plain": [
       "<Figure size 432x288 with 1 Axes>"
      ]
     },
     "metadata": {},
     "output_type": "display_data"
    }
   ],
   "source": [
    "colors = 10*['r','g','b','c','k','y','m']\n",
    "fig = plt.figure()\n",
    "ax = fig.add_subplot(111, projection='3d')\n",
    "\n",
    "for i in range(len(X)):\n",
    "    ax.scatter(X[i][0], X[i][1], X[i][2], c=colors[labels[i]], marker='o')\n",
    "\n",
    "ax.scatter(cluster_centers[:,0],cluster_centers[:,1],cluster_centers[:,2],\n",
    "            marker=\"x\",color='k', s=150, linewidths = 5, zorder=10)\n",
    "\n",
    "plt.show()"
   ]
  },
  {
   "cell_type": "markdown",
   "metadata": {},
   "source": [
    "Lets  do this on titanic data set"
   ]
  },
  {
   "cell_type": "code",
   "execution_count": 8,
   "metadata": {},
   "outputs": [],
   "source": [
    "from sklearn.model_selection import train_test_split\n",
    "from sklearn import preprocessing\n",
    "import pandas as pd"
   ]
  },
  {
   "cell_type": "code",
   "execution_count": 9,
   "metadata": {},
   "outputs": [],
   "source": [
    "df = pd.read_excel('titanic.xls')\n",
    "\n",
    "original_df = pd.DataFrame.copy(df)\n",
    "df.drop(['body','name'], 1, inplace=True)\n",
    "df.fillna(0,inplace=True)"
   ]
  },
  {
   "cell_type": "code",
   "execution_count": 10,
   "metadata": {},
   "outputs": [],
   "source": [
    "def handle_non_numerical_data(df):\n",
    "    \n",
    "    # handling non-numerical data: must convert.\n",
    "    columns = df.columns.values\n",
    "\n",
    "    for column in columns:\n",
    "        text_digit_vals = {}\n",
    "        def convert_to_int(val):\n",
    "            return text_digit_vals[val]\n",
    "\n",
    "        #print(column,df[column].dtype)\n",
    "        if df[column].dtype != np.int64 and df[column].dtype != np.float64:\n",
    "            \n",
    "            column_contents = df[column].values.tolist()\n",
    "            #finding just the uniques\n",
    "            unique_elements = set(column_contents)\n",
    "            # great, found them. \n",
    "            x = 0\n",
    "            for unique in unique_elements:\n",
    "                if unique not in text_digit_vals:\n",
    "                    # creating dict that contains new\n",
    "                    # id per unique string\n",
    "                    text_digit_vals[unique] = x\n",
    "                    x+=1\n",
    "            # now we map the new \"id\" vlaue\n",
    "            # to replace the string. \n",
    "            df[column] = list(map(convert_to_int,df[column]))\n",
    "\n",
    "    return df"
   ]
  },
  {
   "cell_type": "code",
   "execution_count": 11,
   "metadata": {},
   "outputs": [],
   "source": [
    "df = handle_non_numerical_data(df)\n",
    "df.drop(['ticket','home.dest'], 1, inplace=True)\n"
   ]
  },
  {
   "cell_type": "code",
   "execution_count": 12,
   "metadata": {},
   "outputs": [
    {
     "data": {
      "text/plain": [
       "MeanShift(bandwidth=None, bin_seeding=False, cluster_all=True, min_bin_freq=1,\n",
       "     n_jobs=1, seeds=None)"
      ]
     },
     "execution_count": 12,
     "metadata": {},
     "output_type": "execute_result"
    }
   ],
   "source": [
    "X = np.array(df.drop(['survived'], 1).astype(float))\n",
    "X = preprocessing.scale(X)\n",
    "y = np.array(df['survived'])\n",
    "\n",
    "clf = MeanShift()\n",
    "clf.fit(X)"
   ]
  },
  {
   "cell_type": "code",
   "execution_count": 13,
   "metadata": {},
   "outputs": [],
   "source": [
    "labels = clf.labels_\n",
    "cluster_centers = clf.cluster_centers_"
   ]
  },
  {
   "cell_type": "code",
   "execution_count": 15,
   "metadata": {},
   "outputs": [],
   "source": [
    "original_df['cluster_group']=np.nan"
   ]
  },
  {
   "cell_type": "code",
   "execution_count": 16,
   "metadata": {},
   "outputs": [
    {
     "name": "stderr",
     "output_type": "stream",
     "text": [
      "/home/dheeraj/work/env1/lib/python3.6/site-packages/pandas/core/indexing.py:189: SettingWithCopyWarning: \n",
      "A value is trying to be set on a copy of a slice from a DataFrame\n",
      "\n",
      "See the caveats in the documentation: http://pandas.pydata.org/pandas-docs/stable/indexing.html#indexing-view-versus-copy\n",
      "  self._setitem_with_indexer(indexer, value)\n"
     ]
    }
   ],
   "source": [
    "for i in range(len(X)):\n",
    "    original_df['cluster_group'].iloc[i] = labels[i]"
   ]
  },
  {
   "cell_type": "code",
   "execution_count": 17,
   "metadata": {},
   "outputs": [
    {
     "name": "stdout",
     "output_type": "stream",
     "text": [
      "{0: 0.3745019920318725, 1: 1.0, 2: 0.6153846153846154, 3: 0.1}\n"
     ]
    }
   ],
   "source": [
    "n_clusters_ = len(np.unique(labels))\n",
    "survival_rates = {}\n",
    "for i in range(n_clusters_):\n",
    "    temp_df = original_df[ (original_df['cluster_group']==float(i)) ]\n",
    "    #print(temp_df.head())\n",
    "\n",
    "    survival_cluster = temp_df[  (temp_df['survived'] == 1) ]\n",
    "\n",
    "    survival_rate = len(survival_cluster) / len(temp_df)\n",
    "    #print(i,survival_rate)\n",
    "    survival_rates[i] = survival_rate\n",
    "    \n",
    "print(survival_rates)"
   ]
  },
  {
   "cell_type": "markdown",
   "metadata": {},
   "source": [
    "we got 4 groups, 1st one have 37% survival probability, second one 100%, 3rd one 61% and 4th one 10%"
   ]
  },
  {
   "cell_type": "code",
   "execution_count": 18,
   "metadata": {},
   "outputs": [
    {
     "name": "stdout",
     "output_type": "stream",
     "text": [
      "     pclass  survived                                               name  \\\n",
      "35        1         1                           Bowen, Miss. Grace Scott   \n",
      "49        1         1                 Cardeza, Mr. Thomas Drake Martinez   \n",
      "50        1         1  Cardeza, Mrs. James Warburton Martinez (Charlo...   \n",
      "183       1         1                             Lesurer, Mr. Gustave J   \n",
      "302       1         1                                   Ward, Miss. Anna   \n",
      "\n",
      "        sex   age  sibsp  parch    ticket      fare        cabin embarked  \\\n",
      "35   female  45.0      0      0  PC 17608  262.3750          NaN        C   \n",
      "49     male  36.0      0      1  PC 17755  512.3292  B51 B53 B55        C   \n",
      "50   female  58.0      0      1  PC 17755  512.3292  B51 B53 B55        C   \n",
      "183    male  35.0      0      0  PC 17755  512.3292         B101        C   \n",
      "302  female  35.0      0      0  PC 17755  512.3292          NaN        C   \n",
      "\n",
      "    boat  body                                       home.dest  cluster_group  \n",
      "35     4   NaN                                 Cooperstown, NY            1.0  \n",
      "49     3   NaN  Austria-Hungary / Germantown, Philadelphia, PA            1.0  \n",
      "50     3   NaN                    Germantown, Philadelphia, PA            1.0  \n",
      "183    3   NaN                                             NaN            1.0  \n",
      "302    3   NaN                                             NaN            1.0  \n"
     ]
    }
   ],
   "source": [
    "print(original_df[ (original_df['cluster_group']==1) ])\n"
   ]
  },
  {
   "cell_type": "code",
   "execution_count": 19,
   "metadata": {},
   "outputs": [
    {
     "name": "stdout",
     "output_type": "stream",
     "text": [
      "            pclass     survived         age        sibsp        parch  \\\n",
      "count  1255.000000  1255.000000  994.000000  1255.000000  1255.000000   \n",
      "mean      2.334661     0.374502   29.440309     0.483665     0.303586   \n",
      "std       0.817201     0.484187   14.242720     1.047293     0.657028   \n",
      "min       1.000000     0.000000    0.166700     0.000000     0.000000   \n",
      "25%       2.000000     0.000000   21.000000     0.000000     0.000000   \n",
      "50%       3.000000     0.000000   28.000000     0.000000     0.000000   \n",
      "75%       3.000000     1.000000   38.000000     1.000000     0.000000   \n",
      "max       3.000000     1.000000   80.000000     8.000000     4.000000   \n",
      "\n",
      "              fare        body  cluster_group  \n",
      "count  1254.000000  113.000000         1255.0  \n",
      "mean     26.382645  159.805310            0.0  \n",
      "std      31.683900   98.560429            0.0  \n",
      "min       0.000000    1.000000            0.0  \n",
      "25%       7.895800   69.000000            0.0  \n",
      "50%      13.500000  165.000000            0.0  \n",
      "75%      28.350000  256.000000            0.0  \n",
      "max     227.525000  328.000000            0.0  \n"
     ]
    }
   ],
   "source": [
    "print(original_df[ (original_df['cluster_group']==0) ].describe())"
   ]
  },
  {
   "cell_type": "code",
   "execution_count": null,
   "metadata": {},
   "outputs": [],
   "source": []
  }
 ],
 "metadata": {
  "kernelspec": {
   "display_name": "Python 3",
   "language": "python",
   "name": "python3"
  },
  "language_info": {
   "codemirror_mode": {
    "name": "ipython",
    "version": 3
   },
   "file_extension": ".py",
   "mimetype": "text/x-python",
   "name": "python",
   "nbconvert_exporter": "python",
   "pygments_lexer": "ipython3",
   "version": "3.6.5"
  }
 },
 "nbformat": 4,
 "nbformat_minor": 2
}
